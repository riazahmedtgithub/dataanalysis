{
 "cells": [
  {
   "cell_type": "code",
   "execution_count": 1,
   "id": "a457e24c",
   "metadata": {
    "_cell_guid": "b1076dfc-b9ad-4769-8c92-a6c4dae69d19",
    "_uuid": "8f2839f25d086af736a60e9eeb907d3b93b6e0e5",
    "execution": {
     "iopub.execute_input": "2022-09-30T20:15:21.224372Z",
     "iopub.status.busy": "2022-09-30T20:15:21.223414Z",
     "iopub.status.idle": "2022-09-30T20:15:21.244295Z",
     "shell.execute_reply": "2022-09-30T20:15:21.243246Z"
    },
    "papermill": {
     "duration": 0.028673,
     "end_time": "2022-09-30T20:15:21.247487",
     "exception": false,
     "start_time": "2022-09-30T20:15:21.218814",
     "status": "completed"
    },
    "tags": []
   },
   "outputs": [
    {
     "name": "stdout",
     "output_type": "stream",
     "text": [
      "/kaggle/input/netflix-popular-movies-dataset/n_movies.csv\n"
     ]
    }
   ],
   "source": [
    "# This Python 3 environment comes with many helpful analytics libraries installed\n",
    "# It is defined by the kaggle/python Docker image: https://github.com/kaggle/docker-python\n",
    "# For example, here's several helpful packages to load\n",
    "\n",
    "import numpy as np # linear algebra\n",
    "import pandas as pd # data processing, CSV file I/O (e.g. pd.read_csv)\n",
    "\n",
    "# Input data files are available in the read-only \"../input/\" directory\n",
    "# For example, running this (by clicking run or pressing Shift+Enter) will list all files under the input directory\n",
    "\n",
    "import os\n",
    "for dirname, _, filenames in os.walk('/kaggle/input'):\n",
    "    for filename in filenames:\n",
    "        print(os.path.join(dirname, filename))\n",
    "\n",
    "# You can write up to 20GB to the current directory (/kaggle/working/) that gets preserved as output when you create a version using \"Save & Run All\" \n",
    "# You can also write temporary files to /kaggle/temp/, but they won't be saved outside of the current session"
   ]
  },
  {
   "cell_type": "code",
   "execution_count": 2,
   "id": "1697f910",
   "metadata": {
    "execution": {
     "iopub.execute_input": "2022-09-30T20:15:21.253196Z",
     "iopub.status.busy": "2022-09-30T20:15:21.252854Z",
     "iopub.status.idle": "2022-09-30T20:15:21.398919Z",
     "shell.execute_reply": "2022-09-30T20:15:21.394916Z"
    },
    "papermill": {
     "duration": 0.15217,
     "end_time": "2022-09-30T20:15:21.402174",
     "exception": false,
     "start_time": "2022-09-30T20:15:21.250004",
     "status": "completed"
    },
    "tags": []
   },
   "outputs": [
    {
     "name": "stdout",
     "output_type": "stream",
     "text": [
      "                    title         year certificate duration  \\\n",
      "0               Cobra Kai     (2018– )       TV-14   30 min   \n",
      "1               The Crown     (2016– )       TV-MA   58 min   \n",
      "2        Better Call Saul  (2015–2022)       TV-MA   46 min   \n",
      "3           Devil in Ohio       (2022)       TV-MA  356 min   \n",
      "4  Cyberpunk: Edgerunners     (2022– )       TV-MA   24 min   \n",
      "\n",
      "                          genre  rating  \\\n",
      "0         Action, Comedy, Drama     8.5   \n",
      "1     Biography, Drama, History     8.7   \n",
      "2                  Crime, Drama     8.9   \n",
      "3        Drama, Horror, Mystery     5.9   \n",
      "4  Animation, Action, Adventure     8.6   \n",
      "\n",
      "                                         description  \\\n",
      "0  Decades after their 1984 All Valley Karate Tou...   \n",
      "1  Follows the political rivalries and romance of...   \n",
      "2  The trials and tribulations of criminal lawyer...   \n",
      "3  When a psychiatrist shelters a mysterious cult...   \n",
      "4  A Street Kid trying to survive in a technology...   \n",
      "\n",
      "                                               stars    votes  \n",
      "0  ['Ralph Macchio, ', 'William Zabka, ', 'Courtn...  177,031  \n",
      "1  ['Claire Foy, ', 'Olivia Colman, ', 'Imelda St...  199,885  \n",
      "2  ['Bob Odenkirk, ', 'Rhea Seehorn, ', 'Jonathan...  501,384  \n",
      "3  ['Emily Deschanel, ', 'Sam Jaeger, ', 'Gerardo...    9,773  \n",
      "4  ['Zach Aguilar, ', 'Kenichiro Ohashi, ', 'Emi ...   15,413  \n"
     ]
    }
   ],
   "source": [
    "import pandas as pd\n",
    "import matplotlib.pyplot as plt\n",
    "df=pd.read_csv(\"../input/netflix-popular-movies-dataset/n_movies.csv\")\n",
    "print(df.head())\n"
   ]
  }
 ],
 "metadata": {
  "kernelspec": {
   "display_name": "Python 3",
   "language": "python",
   "name": "python3"
  },
  "language_info": {
   "codemirror_mode": {
    "name": "ipython",
    "version": 3
   },
   "file_extension": ".py",
   "mimetype": "text/x-python",
   "name": "python",
   "nbconvert_exporter": "python",
   "pygments_lexer": "ipython3",
   "version": "3.7.12"
  },
  "papermill": {
   "default_parameters": {},
   "duration": 9.66159,
   "end_time": "2022-09-30T20:15:22.026653",
   "environment_variables": {},
   "exception": null,
   "input_path": "__notebook__.ipynb",
   "output_path": "__notebook__.ipynb",
   "parameters": {},
   "start_time": "2022-09-30T20:15:12.365063",
   "version": "2.3.4"
  }
 },
 "nbformat": 4,
 "nbformat_minor": 5
}
